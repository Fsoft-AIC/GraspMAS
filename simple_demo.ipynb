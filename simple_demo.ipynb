{
 "cells": [
  {
   "cell_type": "markdown",
   "id": "fa9ddfd1",
   "metadata": {},
   "source": [
    "### GraspMAS"
   ]
  },
  {
   "cell_type": "code",
   "execution_count": null,
   "id": "922e5da5",
   "metadata": {},
   "outputs": [],
   "source": [
    "import matplotlib.pyplot as plt\n",
    "import numpy as np\n",
    "import cv2\n",
    "import os\n",
    "from PIL import Image\n",
    "from agents.graspmas import GraspMAS\n",
    "import warnings\n",
    "warnings.filterwarnings('ignore')\n",
    "import asyncio"
   ]
  },
  {
   "cell_type": "code",
   "execution_count": null,
   "id": "37a459f4",
   "metadata": {},
   "outputs": [],
   "source": [
    "graspmas = GraspMAS(api_file='api.key', max_round=5)\n",
    "# with warnings.catch_warnings():\n",
    "# warnings.simplefilter(\"ignore\")\n",
    "async def run_query():\n",
    "    return await graspmas.query(query, image_path)\n",
    "\n",
    "query = \"Grasp the fork at its handle.\"\n",
    "image_path = 'imgs/forks.jpeg'\n",
    "save_path, grasp_pose = await run_query()"
   ]
  },
  {
   "cell_type": "markdown",
   "id": "e5f72c4e",
   "metadata": {},
   "source": [
    "### Only Coder"
   ]
  },
  {
   "cell_type": "code",
   "execution_count": null,
   "id": "a5f70bc6-937b-46d4-bcd1-a25b18ae0cc7",
   "metadata": {},
   "outputs": [],
   "source": [
    "import matplotlib.pyplot as plt\n",
    "import torch\n",
    "import base64\n",
    "\n",
    "from prompt import planner_prompt_v3\n",
    "# Function to encode the image\n",
    "def encode_image(image_path):\n",
    "    with open(image_path, \"rb\") as image_file:\n",
    "        return base64.b64encode(image_file.read()).decode(\"utf-8\")\n",
    "from PIL import Image\n",
    "from grasp.utils import *\n",
    "from prompt import code_prompt_v2, code_prompt\n",
    "import os\n",
    "from openai import OpenAI\n",
    "from image_patch import ImagePatch, OPENAI_CLIENT\n",
    "api_file = os.path.join('api.key')\n",
    "with open(api_file) as f:\n",
    "    api_key = f.readline().splitlines()\n",
    "OPENAI_CLIENT = OpenAI(api_key=api_key[0])"
   ]
  },
  {
   "cell_type": "code",
   "execution_count": null,
   "id": "04153aaf",
   "metadata": {},
   "outputs": [],
   "source": [
    "IMAGE_PATH = '/LOCAL2/anguyen/faic/quang/GraspAgentic/simulated_demo/ball.png'\n",
    "image = Image.open(IMAGE_PATH).convert(\"RGB\")"
   ]
  },
  {
   "cell_type": "code",
   "execution_count": null,
   "id": "4951e7d9",
   "metadata": {},
   "outputs": [],
   "source": [
    "query = 'Grasp the tennis ball.'\n",
    "fewshot_examples = code_prompt.example_context\n",
    "prompt = code_prompt.context.format(query=query, example=fewshot_examples)\n",
    "input_message = [\n",
    "    {\"role\": \"system\", \"content\": \"Only answer with a function starting def execute_command.\"},\n",
    "    {\"role\": \"user\", \"content\": prompt},\n",
    "]\n",
    "\n",
    "response = OPENAI_CLIENT.chat.completions.create(\n",
    "    model=\"gpt-4o-mini\",\n",
    "    messages=input_message,\n",
    "    temperature=0,\n",
    "    max_tokens=1000,\n",
    "    top_p=1.0,\n",
    "    frequency_penalty=0.0,\n",
    "    presence_penalty=2.0,\n",
    "    stop=[\"\\\"\\\"\\\"\"])\n",
    "\n",
    "response_message = response.choices[0].message.content\n",
    "code = '\\n'.join(response_message.split('\\n')[1:-1]).replace('\\n    \\n', '\\n')\n",
    "print(\"Code:\\n\",code)"
   ]
  },
  {
   "cell_type": "code",
   "execution_count": null,
   "id": "4951e7d9",
   "metadata": {},
   "outputs": [],
   "source": [
    "exec(code, globals())\n",
    "out = execute_command(image)\n",
    "if out is None:\n",
    "    print(\"No grasp pose found.\")\n",
    "else:\n",
    "    visualize_grasp_pose(np.array(image), out)"
   ]
  }
 ],
 "metadata": {
  "environment": {
   "kernel": "python3",
   "name": "pytorch-gpu.2-0.m111",
   "type": "gcloud",
   "uri": "gcr.io/deeplearning-platform-release/pytorch-gpu.2-0:m111"
  },
  "kernelspec": {
   "display_name": "graspmas",
   "language": "python",
   "name": "python3"
  },
  "language_info": {
   "codemirror_mode": {
    "name": "ipython",
    "version": 3
   },
   "file_extension": ".py",
   "mimetype": "text/x-python",
   "name": "python",
   "nbconvert_exporter": "python",
   "pygments_lexer": "ipython3",
   "version": "3.9.23"
  }
 },
 "nbformat": 4,
 "nbformat_minor": 5
}
